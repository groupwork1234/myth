{
 "cells": [
  {
   "cell_type": "code",
   "execution_count": 1,
   "metadata": {},
   "outputs": [],
   "source": [
    "import random\n",
    "import fasttext\n",
    "import psutil\n",
    "import os\n",
    "from joblib import dump,load\n",
    "from sklearn.model_selection import train_test_split\n",
    "import warnings\n",
    "warnings.filterwarnings(\"ignore\")\n",
    "import pandas as pd\n",
    "import numpy as np\n",
    "import random"
   ]
  },
  {
   "cell_type": "markdown",
   "metadata": {},
   "source": [
    "## 查看内存"
   ]
  },
  {
   "cell_type": "code",
   "execution_count": 2,
   "metadata": {},
   "outputs": [
    {
     "name": "stdout",
     "output_type": "stream",
     "text": [
      "内存使用： 126476288\n",
      "剩余内存： 8141082624\n"
     ]
    }
   ],
   "source": [
    "info = psutil.virtual_memory()\n",
    "print (u'内存使用：',psutil.Process(os.getpid()).memory_info().rss)\n",
    "print (u'剩余内存：',info.total-psutil.Process(os.getpid()).memory_info().rss)"
   ]
  },
  {
   "cell_type": "markdown",
   "metadata": {},
   "source": [
    "### 加载数据"
   ]
  },
  {
   "cell_type": "code",
   "execution_count": 12,
   "metadata": {},
   "outputs": [
    {
     "data": {
      "text/html": [
       "<div>\n",
       "<style scoped>\n",
       "    .dataframe tbody tr th:only-of-type {\n",
       "        vertical-align: middle;\n",
       "    }\n",
       "\n",
       "    .dataframe tbody tr th {\n",
       "        vertical-align: top;\n",
       "    }\n",
       "\n",
       "    .dataframe thead th {\n",
       "        text-align: right;\n",
       "    }\n",
       "</style>\n",
       "<table border=\"1\" class=\"dataframe\">\n",
       "  <thead>\n",
       "    <tr style=\"text-align: right;\">\n",
       "      <th></th>\n",
       "      <th>ID</th>\n",
       "      <th>Age</th>\n",
       "      <th>Gender</th>\n",
       "      <th>Education</th>\n",
       "      <th>Query_List</th>\n",
       "    </tr>\n",
       "  </thead>\n",
       "  <tbody>\n",
       "    <tr>\n",
       "      <th>0</th>\n",
       "      <td>22DD920316420BE2DF8D6EE651BA174B</td>\n",
       "      <td>1</td>\n",
       "      <td>1</td>\n",
       "      <td>4</td>\n",
       "      <td>柔和 双沟 女生 中财网 首页   财经 pan 周公 解梦 大全 查询 2345 曹云金 ...</td>\n",
       "    </tr>\n",
       "    <tr>\n",
       "      <th>1</th>\n",
       "      <td>43CC3AF5A8D6430A3B572337A889AFE4</td>\n",
       "      <td>2</td>\n",
       "      <td>1</td>\n",
       "      <td>3</td>\n",
       "      <td>广州 厨宝 烤箱 世情 薄 人情 恶 雨送 黄昏 花易落 晓 风干 泪痕 厦门 酒店用品 批...</td>\n",
       "    </tr>\n",
       "    <tr>\n",
       "      <th>2</th>\n",
       "      <td>E97654BFF5570E2CCD433EA6128EAC19</td>\n",
       "      <td>4</td>\n",
       "      <td>1</td>\n",
       "      <td>0</td>\n",
       "      <td>钻石 之泪 耳机 盘锦 沈阳 旅顺 公交 辽宁 阜新 车牌 baidu k715 k716 ...</td>\n",
       "    </tr>\n",
       "  </tbody>\n",
       "</table>\n",
       "</div>"
      ],
      "text/plain": [
       "                                 ID  Age  Gender  Education  \\\n",
       "0  22DD920316420BE2DF8D6EE651BA174B    1       1          4   \n",
       "1  43CC3AF5A8D6430A3B572337A889AFE4    2       1          3   \n",
       "2  E97654BFF5570E2CCD433EA6128EAC19    4       1          0   \n",
       "\n",
       "                                          Query_List  \n",
       "0  柔和 双沟 女生 中财网 首页   财经 pan 周公 解梦 大全 查询 2345 曹云金 ...  \n",
       "1  广州 厨宝 烤箱 世情 薄 人情 恶 雨送 黄昏 花易落 晓 风干 泪痕 厦门 酒店用品 批...  \n",
       "2  钻石 之泪 耳机 盘锦 沈阳 旅顺 公交 辽宁 阜新 车牌 baidu k715 k716 ...  "
      ]
     },
     "execution_count": 12,
     "metadata": {},
     "output_type": "execute_result"
    }
   ],
   "source": [
    "train = pd.read_csv('train1.csv',index_col=0)\n",
    "train.head(3)"
   ]
  },
  {
   "cell_type": "markdown",
   "metadata": {},
   "source": [
    "### 构造格式化文本  \n",
    "需要将文本转化为：```__label__2 , birchas chaim yeshiva birchas chaim ...```"
   ]
  },
  {
   "cell_type": "code",
   "execution_count": 47,
   "metadata": {},
   "outputs": [],
   "source": [
    "def preprocess_text0(content_lines, sentences, category):\n",
    "    for line in content_lines:\n",
    "        sentences.append(\"__label__\"+str(category)+\" , \"+ line)    \n",
    "def preprocess_text(name,data):\n",
    "    sentences = []\n",
    "    for i in set(data.loc[:,name].values):\n",
    "        preprocess_text0(data[data[name]==i].loc[:,'Query_List'].tolist(), sentences, i)\n",
    "    random.shuffle(sentences)\n",
    "    return sentences"
   ]
  },
  {
   "cell_type": "code",
   "execution_count": 33,
   "metadata": {},
   "outputs": [],
   "source": [
    "def save_data(path,sentences):\n",
    "    # 将数据保存到txt中\n",
    "    print(\"writing data to fasttext format...\")\n",
    "    out = open(path, 'w', encoding='utf-8')\n",
    "    for sentence in sentences:\n",
    "        out.write(sentence+\"\\n\")\n",
    "    print(\"done!\")"
   ]
  },
  {
   "cell_type": "code",
   "execution_count": 52,
   "metadata": {},
   "outputs": [
    {
     "name": "stdout",
     "output_type": "stream",
     "text": [
      "writing data to fasttext format...\n",
      "done!\n",
      "writing data to fasttext format...\n",
      "done!\n"
     ]
    }
   ],
   "source": [
    "# 转化年龄数据\n",
    "train_set, test_set = train_test_split(train[train['Age']>0],\\\n",
    "                                       stratify=train[train['Age']>0].Age,\\\n",
    "                                       random_state=42)\n",
    "#训练数据\n",
    "sentences = preprocess_text('Age',train_set)\n",
    "# 写txt文件\n",
    "path = 'age_train.txt'\n",
    "save_data(path,sentences)\n",
    "# 测试数据\n",
    "sentences = preprocess_text('Age',test_set)\n",
    "# 写txt文件\n",
    "path = 'age_test.txt'\n",
    "save_data(path,sentences)"
   ]
  },
  {
   "cell_type": "code",
   "execution_count": 53,
   "metadata": {},
   "outputs": [
    {
     "name": "stdout",
     "output_type": "stream",
     "text": [
      "writing data to fasttext format...\n",
      "done!\n",
      "writing data to fasttext format...\n",
      "done!\n"
     ]
    }
   ],
   "source": [
    "# 转化性别数据\n",
    "train_set, test_set = train_test_split(train[train['Gender']>0],\\\n",
    "                                       stratify=train[train['Gender']>0].Gender,\\\n",
    "                                       random_state=42)\n",
    "#训练数据\n",
    "sentences = preprocess_text('Gender',train_set)\n",
    "# 写txt文件\n",
    "path = 'gender_train.txt'\n",
    "save_data(path,sentences)\n",
    "# 测试数据\n",
    "sentences = preprocess_text('Gender',test_set)\n",
    "# 写txt文件\n",
    "path = 'gender_test.txt'\n",
    "save_data(path,sentences)"
   ]
  },
  {
   "cell_type": "code",
   "execution_count": 54,
   "metadata": {},
   "outputs": [
    {
     "name": "stdout",
     "output_type": "stream",
     "text": [
      "writing data to fasttext format...\n",
      "done!\n",
      "writing data to fasttext format...\n",
      "done!\n"
     ]
    }
   ],
   "source": [
    "# 转化教育程度数据\n",
    "train_set, test_set = train_test_split(train[train['Education']>0],\\\n",
    "                                       stratify=train[train['Education']>0].Education,\\\n",
    "                                       random_state=42)\n",
    "#训练数据\n",
    "sentences = preprocess_text('Education',train_set)\n",
    "# 写txt文件\n",
    "path = 'education_train.txt'\n",
    "save_data(path,sentences)\n",
    "# 测试数据\n",
    "sentences = preprocess_text('Education',test_set)\n",
    "# 写txt文件\n",
    "path = 'education_test.txt'\n",
    "save_data(path,sentences)"
   ]
  },
  {
   "cell_type": "code",
   "execution_count": null,
   "metadata": {},
   "outputs": [],
   "source": []
  },
  {
   "cell_type": "markdown",
   "metadata": {},
   "source": [
    "## 模型训练"
   ]
  },
  {
   "cell_type": "code",
   "execution_count": 2,
   "metadata": {},
   "outputs": [],
   "source": [
    "# 年龄\n",
    "age_classifier = fasttext.train_supervised(input='age_train.txt', dim=100, epoch=10,\n",
    "                                         lr=0.1, wordNgrams=2, loss='softmax')\n",
    "age_classifier.save_model('age_classifier.model')"
   ]
  },
  {
   "cell_type": "code",
   "execution_count": 3,
   "metadata": {},
   "outputs": [],
   "source": [
    "# 性别\n",
    "gender_classifier = fasttext.train_supervised(input='gender_train.txt', dim=100, epoch=10,\n",
    "                                         lr=0.1, wordNgrams=2, loss='softmax')\n",
    "gender_classifier.save_model('gender_classifier.model')"
   ]
  },
  {
   "cell_type": "code",
   "execution_count": 5,
   "metadata": {},
   "outputs": [],
   "source": [
    "# 教育程度\n",
    "education_classifier = fasttext.train_supervised(input='Education_train.txt', dim=100, epoch=10,\n",
    "                                         lr=0.1, wordNgrams=2, loss='softmax')\n",
    "education_classifier.save_model('education_classifier.model')"
   ]
  },
  {
   "cell_type": "code",
   "execution_count": 7,
   "metadata": {},
   "outputs": [
    {
     "name": "stdout",
     "output_type": "stream",
     "text": [
      "age_P@1: 0.5748454279205988\n",
      "age_R@1: 0.5748454279205988\n",
      "Number of age_examples: 24584\n",
      "gender_P@1: 0.8038999264164827\n",
      "gender_R@1: 0.8038999264164827\n",
      "Number of gender_examples: 24462\n",
      "education_P@1: 0.6089506172839506\n",
      "education_R@1: 0.6089506172839506\n",
      "Number of education_examples: 22680\n"
     ]
    }
   ],
   "source": [
    "#模型检验\n",
    "s_a = age_classifier.test('age_test.txt')\n",
    "print('age_P@1:', s_a[1])\n",
    "print('age_R@1:', s_a[2])\n",
    "print('Number of age_examples:', s_a[0])\n",
    "s_g = gender_classifier.test('gender_test.txt')\n",
    "print('gender_P@1:', s_g[1])\n",
    "print('gender_R@1:', s_g[2])\n",
    "print('Number of gender_examples:', s_g[0])\n",
    "s_e = education_classifier.test('education_test.txt')\n",
    "print('education_P@1:', s_e[1])\n",
    "print('education_R@1:', s_e[2])\n",
    "print('Number of education_examples:', s_e[0])"
   ]
  },
  {
   "cell_type": "code",
   "execution_count": 10,
   "metadata": {},
   "outputs": [
    {
     "data": {
      "text/plain": [
       "0.6625653238736774"
      ]
     },
     "execution_count": 10,
     "metadata": {},
     "output_type": "execute_result"
    }
   ],
   "source": [
    "np.mean([s_g[1],s_a[1],s_e[1]])"
   ]
  },
  {
   "cell_type": "code",
   "execution_count": null,
   "metadata": {},
   "outputs": [],
   "source": []
  }
 ],
 "metadata": {
  "kernelspec": {
   "display_name": "Python 3",
   "language": "python",
   "name": "python3"
  },
  "language_info": {
   "codemirror_mode": {
    "name": "ipython",
    "version": 3
   },
   "file_extension": ".py",
   "mimetype": "text/x-python",
   "name": "python",
   "nbconvert_exporter": "python",
   "pygments_lexer": "ipython3",
   "version": "3.6.5"
  }
 },
 "nbformat": 4,
 "nbformat_minor": 2
}
