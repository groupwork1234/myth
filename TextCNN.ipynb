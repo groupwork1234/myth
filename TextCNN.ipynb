{
 "cells": [
  {
   "cell_type": "markdown",
   "metadata": {},
   "source": [
    "## 模型构建与训练"
   ]
  },
  {
   "cell_type": "code",
   "execution_count": 1,
   "metadata": {},
   "outputs": [
    {
     "name": "stderr",
     "output_type": "stream",
     "text": [
      "/home/myth/anaconda3/lib/python3.6/site-packages/h5py/__init__.py:36: FutureWarning: Conversion of the second argument of issubdtype from `float` to `np.floating` is deprecated. In future, it will be treated as `np.float64 == np.dtype(float).type`.\n",
      "  from ._conv import register_converters as _register_converters\n"
     ]
    }
   ],
   "source": [
    "import pandas as pd\n",
    "import numpy as np\n",
    "import psutil\n",
    "import os\n",
    "from tensorflow.keras.preprocessing import sequence\n",
    "import random\n",
    "from sklearn.model_selection import train_test_split\n",
    "from tensorflow.keras.callbacks import EarlyStopping, ModelCheckpoint\n",
    "from tensorflow.keras.utils import to_categorical\n",
    "from utils import *\n",
    "from tensorflow.keras import Input, Model\n",
    "from tensorflow.keras.layers import Embedding, Dense, Conv1D, GlobalMaxPooling1D, Concatenate, Dropout\n"
   ]
  },
  {
   "cell_type": "markdown",
   "metadata": {},
   "source": [
    "### 定义网络结构"
   ]
  },
  {
   "cell_type": "code",
   "execution_count": 15,
   "metadata": {},
   "outputs": [],
   "source": [
    "\n",
    "class TextCNN(object):\n",
    "    def __init__(self, maxlen, max_features, embedding_dims,\n",
    "                 class_num=6,\n",
    "                 last_activation='softmax'):\n",
    "        self.maxlen = maxlen\n",
    "        self.max_features = max_features\n",
    "        self.embedding_dims = embedding_dims\n",
    "        self.class_num = class_num\n",
    "        self.last_activation = last_activation\n",
    "\n",
    "    def get_model(self):\n",
    "        input = Input((self.maxlen,))\n",
    "        embedding = Embedding(self.max_features, self.embedding_dims, input_length=self.maxlen)(input)\n",
    "        convs = []\n",
    "        for kernel_size in [3, 4, 5]:\n",
    "            c = Conv1D(128, kernel_size, activation='relu')(embedding)\n",
    "            c = GlobalMaxPooling1D()(c)\n",
    "            convs.append(c)\n",
    "        x = Concatenate()(convs)\n",
    "\n",
    "        output = Dense(self.class_num, activation=self.last_activation)(x)\n",
    "        model = Model(inputs=input, outputs=output)\n",
    "        return model"
   ]
  },
  {
   "cell_type": "markdown",
   "metadata": {},
   "source": [
    "### 数据处理与训练"
   ]
  },
  {
   "cell_type": "code",
   "execution_count": 3,
   "metadata": {},
   "outputs": [
    {
     "name": "stdout",
     "output_type": "stream",
     "text": [
      "内存使用： 324444160\n",
      "剩余内存： 7943114752\n"
     ]
    }
   ],
   "source": [
    "info = psutil.virtual_memory()\n",
    "print (u'内存使用：',psutil.Process(os.getpid()).memory_info().rss)\n",
    "print (u'剩余内存：',info.total-psutil.Process(os.getpid()).memory_info().rss)"
   ]
  },
  {
   "cell_type": "code",
   "execution_count": 4,
   "metadata": {},
   "outputs": [
    {
     "data": {
      "text/html": [
       "<div>\n",
       "<style scoped>\n",
       "    .dataframe tbody tr th:only-of-type {\n",
       "        vertical-align: middle;\n",
       "    }\n",
       "\n",
       "    .dataframe tbody tr th {\n",
       "        vertical-align: top;\n",
       "    }\n",
       "\n",
       "    .dataframe thead th {\n",
       "        text-align: right;\n",
       "    }\n",
       "</style>\n",
       "<table border=\"1\" class=\"dataframe\">\n",
       "  <thead>\n",
       "    <tr style=\"text-align: right;\">\n",
       "      <th></th>\n",
       "      <th>ID</th>\n",
       "      <th>Age</th>\n",
       "      <th>Gender</th>\n",
       "      <th>Education</th>\n",
       "      <th>Query_List1</th>\n",
       "    </tr>\n",
       "  </thead>\n",
       "  <tbody>\n",
       "    <tr>\n",
       "      <th>0</th>\n",
       "      <td>22DD920316420BE2DF8D6EE651BA174B</td>\n",
       "      <td>1</td>\n",
       "      <td>1</td>\n",
       "      <td>4</td>\n",
       "      <td>['柔和', '双沟', '女生', '中财网', '首页', ' ', '财经', 'pa...</td>\n",
       "    </tr>\n",
       "    <tr>\n",
       "      <th>1</th>\n",
       "      <td>43CC3AF5A8D6430A3B572337A889AFE4</td>\n",
       "      <td>2</td>\n",
       "      <td>1</td>\n",
       "      <td>3</td>\n",
       "      <td>['广州', '厨宝', '烤箱', '世情', '薄', ',', '人情', '恶', ...</td>\n",
       "    </tr>\n",
       "    <tr>\n",
       "      <th>2</th>\n",
       "      <td>E97654BFF5570E2CCD433EA6128EAC19</td>\n",
       "      <td>4</td>\n",
       "      <td>1</td>\n",
       "      <td>0</td>\n",
       "      <td>['钻石', '之泪', '耳机', '盘锦', '到', '沈阳', '旅顺', '公交'...</td>\n",
       "    </tr>\n",
       "    <tr>\n",
       "      <th>3</th>\n",
       "      <td>6931EFC26D229CCFCEA125D3F3C21E57</td>\n",
       "      <td>4</td>\n",
       "      <td>2</td>\n",
       "      <td>3</td>\n",
       "      <td>['最', '受欢迎', '狗狗', '排行榜', '舶', '怎么', '读', '场景'...</td>\n",
       "    </tr>\n",
       "    <tr>\n",
       "      <th>4</th>\n",
       "      <td>E780470C3BB0D340334BD08CDCC3C71A</td>\n",
       "      <td>2</td>\n",
       "      <td>2</td>\n",
       "      <td>4</td>\n",
       "      <td>['干槽症', '能', '自愈', '吗', '太太', '万岁', '叶', '舒心',...</td>\n",
       "    </tr>\n",
       "  </tbody>\n",
       "</table>\n",
       "</div>"
      ],
      "text/plain": [
       "                                 ID  Age  Gender  Education  \\\n",
       "0  22DD920316420BE2DF8D6EE651BA174B    1       1          4   \n",
       "1  43CC3AF5A8D6430A3B572337A889AFE4    2       1          3   \n",
       "2  E97654BFF5570E2CCD433EA6128EAC19    4       1          0   \n",
       "3  6931EFC26D229CCFCEA125D3F3C21E57    4       2          3   \n",
       "4  E780470C3BB0D340334BD08CDCC3C71A    2       2          4   \n",
       "\n",
       "                                         Query_List1  \n",
       "0  ['柔和', '双沟', '女生', '中财网', '首页', ' ', '财经', 'pa...  \n",
       "1  ['广州', '厨宝', '烤箱', '世情', '薄', ',', '人情', '恶', ...  \n",
       "2  ['钻石', '之泪', '耳机', '盘锦', '到', '沈阳', '旅顺', '公交'...  \n",
       "3  ['最', '受欢迎', '狗狗', '排行榜', '舶', '怎么', '读', '场景'...  \n",
       "4  ['干槽症', '能', '自愈', '吗', '太太', '万岁', '叶', '舒心',...  "
      ]
     },
     "execution_count": 4,
     "metadata": {},
     "output_type": "execute_result"
    }
   ],
   "source": [
    "train = pd.read_csv('train.csv',index_col=0)\n",
    "train.head()"
   ]
  },
  {
   "cell_type": "code",
   "execution_count": 5,
   "metadata": {},
   "outputs": [],
   "source": [
    "train.Query_List1 = train.Query_List1.apply(eval)"
   ]
  },
  {
   "cell_type": "code",
   "execution_count": 8,
   "metadata": {},
   "outputs": [],
   "source": [
    "# 路径等配置\n",
    "data_dir = \"./processed_data\"\n",
    "vocab_file = \"./vocab/vocab.txt\"\n",
    "vocab_size = 40000\n",
    "#构造词表\n",
    "from tkinter import _flatten\n",
    "words = train['Query_List1'].values.tolist()"
   ]
  },
  {
   "cell_type": "code",
   "execution_count": 9,
   "metadata": {},
   "outputs": [],
   "source": [
    "words = set(_flatten(words))"
   ]
  },
  {
   "cell_type": "code",
   "execution_count": 8,
   "metadata": {},
   "outputs": [],
   "source": [
    "def save_data(path,sentences):\n",
    "    # 将数据保存到txt中\n",
    "    print(\"writing data to fasttext format...\")\n",
    "    out = open(path, 'w', encoding='utf-8')\n",
    "    for sentence in sentences:\n",
    "        out.write(sentence+\"\\n\")\n",
    "    print(\"done!\")"
   ]
  },
  {
   "cell_type": "code",
   "execution_count": 26,
   "metadata": {},
   "outputs": [
    {
     "name": "stdout",
     "output_type": "stream",
     "text": [
      "writing data to fasttext format...\n",
      "done!\n"
     ]
    }
   ],
   "source": [
    "save_data(vocab_file,words)"
   ]
  },
  {
   "cell_type": "code",
   "execution_count": 19,
   "metadata": {},
   "outputs": [],
   "source": [
    "def build_vocab(data_train, vocab_file, vocab_size=5000):\n",
    "    \"\"\"根据训练集构建词汇表，存储\"\"\"\n",
    "#     data_train, _ = read_files(train_dir)\n",
    "    all_data = []\n",
    "    for content in data_train:\n",
    "        all_data.extend(content)\n",
    "\n",
    "    counter = Counter(all_data)\n",
    "    count_pairs = counter.most_common(vocab_size - 1)\n",
    "    words, _ = list(zip(*count_pairs))\n",
    "    # 添加一个 <PAD> 来将所有文本pad为同一长度\n",
    "    words = ['<PAD>'] + list(words)\n",
    "    open_file(vocab_file, mode='w').write('\\n'.join(words) + '\\n')"
   ]
  },
  {
   "cell_type": "code",
   "execution_count": 20,
   "metadata": {},
   "outputs": [],
   "source": [
    "build_vocab(train.Query_List1.values.tolist(),vocab_file, vocab_size)"
   ]
  },
  {
   "cell_type": "code",
   "execution_count": 21,
   "metadata": {},
   "outputs": [
    {
     "name": "stdout",
     "output_type": "stream",
     "text": [
      "数据预处理与加载数据...\n",
      "对序列做padding，保证是 samples*timestep 的维度\n",
      "x_train shape: (73750, 100)\n",
      "x_test shape: (24584, 100)\n"
     ]
    }
   ],
   "source": [
    "# 神经网络配置\n",
    "max_features = 40001\n",
    "maxlen = 100\n",
    "batch_size = 64\n",
    "embedding_dims = 50\n",
    "epochs = 8\n",
    "\n",
    "print('数据预处理与加载数据...')\n",
    "# 如果不存在词汇表，重建\n",
    "# if not os.path.exists(vocab_file):  \n",
    "#     build_vocab(data_dir, vocab_file, vocab_size)\n",
    "# 获得 词汇/类别 与id映射字典\n",
    "categories, cat_to_id = read_category_a()\n",
    "words, word_to_id = read_vocab(vocab_file)\n",
    "\n",
    "\n",
    "# 切分训练集和测试集\n",
    "# 转化年龄数据\n",
    "train_set, test_set = train_test_split(train[train['Age']>0],\\\n",
    "                                       stratify=train[train['Age']>0].Age,\\\n",
    "                                       random_state=42)\n",
    "# 对文本的词id和类别id进行编码\n",
    "x_train = encode_sentences(train_set['Query_List1'].values.tolist(), word_to_id)\n",
    "y_train = to_categorical(encode_cate(train_set['Age'].values.tolist(), cat_to_id))\n",
    "x_test = encode_sentences(test_set['Query_List1'].values.tolist(), word_to_id)\n",
    "y_test = to_categorical(encode_cate(test_set['Age'].values.tolist(), cat_to_id))\n",
    "\n",
    "print('对序列做padding，保证是 samples*timestep 的维度')\n",
    "x_train = sequence.pad_sequences(x_train, maxlen=maxlen)\n",
    "x_test = sequence.pad_sequences(x_test, maxlen=maxlen)\n",
    "print('x_train shape:', x_train.shape)\n",
    "print('x_test shape:', x_test.shape)\n",
    "\n",
    "\n",
    "\n",
    "\n",
    "\n",
    "#print('对测试集预测...')\n",
    "#result = model.predict(x_test)"
   ]
  },
  {
   "cell_type": "code",
   "execution_count": 15,
   "metadata": {},
   "outputs": [
    {
     "data": {
      "text/plain": [
       "{0: 0, 1: 1, 2: 2, 3: 3, 4: 4, 5: 5}"
      ]
     },
     "execution_count": 15,
     "metadata": {},
     "output_type": "execute_result"
    }
   ],
   "source": [
    "cat_to_id"
   ]
  },
  {
   "cell_type": "code",
   "execution_count": 22,
   "metadata": {},
   "outputs": [
    {
     "name": "stdout",
     "output_type": "stream",
     "text": [
      "构建模型...\n",
      "训练...\n",
      "Train on 73750 samples, validate on 24584 samples\n",
      "Epoch 1/8\n",
      "73728/73750 [============================>.] - ETA: 0s - loss: 1.2156 - accuracy: 0.5039\n",
      "Epoch 00001: saving model to ./cnn_model_a.h5\n",
      "73750/73750 [==============================] - 219s 3ms/sample - loss: 1.2156 - accuracy: 0.5039 - val_loss: 1.1542 - val_accuracy: 0.5344\n",
      "Epoch 2/8\n",
      "73728/73750 [============================>.] - ETA: 0s - loss: 1.0003 - accuracy: 0.6178\n",
      "Epoch 00002: saving model to ./cnn_model_a.h5\n",
      "73750/73750 [==============================] - 235s 3ms/sample - loss: 1.0003 - accuracy: 0.6178 - val_loss: 1.1790 - val_accuracy: 0.5296\n",
      "Epoch 3/8\n",
      "73728/73750 [============================>.] - ETA: 0s - loss: 0.7182 - accuracy: 0.7469\n",
      "Epoch 00003: saving model to ./cnn_model_a.h5\n",
      "73750/73750 [==============================] - 245s 3ms/sample - loss: 0.7182 - accuracy: 0.7469 - val_loss: 1.3552 - val_accuracy: 0.5111\n"
     ]
    }
   ],
   "source": [
    "# fit拟合数据\n",
    "# max_features = 600001\n",
    "print('构建模型...')\n",
    "model = TextCNN(maxlen, max_features, embedding_dims).get_model()\n",
    "model.compile('adam', 'categorical_crossentropy', metrics=['accuracy'])\n",
    "\n",
    "print('训练...')\n",
    "# 设定callbacks回调函数\n",
    "my_callbacks = [\n",
    "    ModelCheckpoint('./cnn_model_a.h5', verbose=1),\n",
    "    EarlyStopping(monitor='val_accuracy', patience=2, mode='max')\n",
    "]\n",
    "history = model.fit(x_train, y_train,\n",
    "          batch_size=batch_size,\n",
    "          epochs=epochs,\n",
    "          callbacks=my_callbacks,\n",
    "          validation_data=(x_test, y_test))"
   ]
  },
  {
   "cell_type": "code",
   "execution_count": null,
   "metadata": {},
   "outputs": [],
   "source": [
    "model_a = model"
   ]
  },
  {
   "cell_type": "markdown",
   "metadata": {},
   "source": [
    "### 训练中间信息输出"
   ]
  },
  {
   "cell_type": "code",
   "execution_count": 23,
   "metadata": {},
   "outputs": [
    {
     "data": {
      "image/png": "[encoded data removed]",
      "text/plain": [
       "<Figure size 432x288 with 1 Axes>"
      ]
     },
     "metadata": {},
     "output_type": "display_data"
    }
   ],
   "source": [
    "import matplotlib.pyplot as plt\n",
    "plt.switch_backend('agg')\n",
    "%matplotlib inline\n",
    "\n",
    "fig1 = plt.figure()\n",
    "plt.plot(history.history['loss'],'r',linewidth=3.0)\n",
    "plt.plot(history.history['val_loss'],'b',linewidth=3.0)\n",
    "plt.legend(['Training loss', 'Validation Loss'],fontsize=18)\n",
    "plt.xlabel('Epochs ',fontsize=16)\n",
    "plt.ylabel('Loss',fontsize=16)\n",
    "plt.title('Loss Curves :CNN',fontsize=16)\n",
    "fig1.savefig('loss_cnn.png')\n",
    "plt.show()"
   ]
  },
  {
   "cell_type": "code",
   "execution_count": 27,
   "metadata": {},
   "outputs": [
    {
     "data": {
      "image/png": "[encoded data removed]",
      "text/plain": [
       "<Figure size 432x288 with 1 Axes>"
      ]
     },
     "metadata": {},
     "output_type": "display_data"
    }
   ],
   "source": [
    "fig2=plt.figure()\n",
    "plt.plot(history.history['accuracy'],'r',linewidth=3.0)\n",
    "plt.plot(history.history['val_accuracy'],'b',linewidth=3.0)\n",
    "plt.legend(['Training Accuracy', 'Validation Accuracy'],fontsize=18)\n",
    "plt.xlabel('Epochs ',fontsize=16)\n",
    "plt.ylabel('Accuracy',fontsize=16)\n",
    "plt.title('Accuracy Curves : CNN',fontsize=16)\n",
    "fig2.savefig('accuracy_cnn.png')\n",
    "plt.show()"
   ]
  },
  {
   "cell_type": "code",
   "execution_count": 31,
   "metadata": {},
   "outputs": [],
   "source": [
    "from tensorflow.keras.utils import plot_model\n",
    "import pydot,graphviz"
   ]
  },
  {
   "cell_type": "code",
   "execution_count": 32,
   "metadata": {},
   "outputs": [
    {
     "data": {
      "text/plain": [
       "<module 'pydot' from '/home/myth/anaconda3/lib/python3.6/site-packages/pydot.py'>"
      ]
     },
     "execution_count": 32,
     "metadata": {},
     "output_type": "execute_result"
    }
   ],
   "source": [
    "pydot "
   ]
  },
  {
   "cell_type": "code",
   "execution_count": 33,
   "metadata": {},
   "outputs": [
    {
     "data": {
      "text/plain": [
       "<module 'graphviz' from '/home/myth/anaconda3/lib/python3.6/site-packages/graphviz/__init__.py'>"
      ]
     },
     "execution_count": 33,
     "metadata": {},
     "output_type": "execute_result"
    }
   ],
   "source": [
    "graphviz"
   ]
  },
  {
   "cell_type": "code",
   "execution_count": 29,
   "metadata": {},
   "outputs": [
    {
     "name": "stdout",
     "output_type": "stream",
     "text": [
      "Failed to import pydot. You must install pydot and graphviz for `pydotprint` to work.\n"
     ]
    }
   ],
   "source": [
    "plot_model(model, show_shapes=True, show_layer_names=True)"
   ]
  },
  {
   "cell_type": "markdown",
   "metadata": {},
   "source": [
    "### 性别"
   ]
  },
  {
   "cell_type": "code",
   "execution_count": 35,
   "metadata": {},
   "outputs": [
    {
     "name": "stdout",
     "output_type": "stream",
     "text": [
      "对序列做padding，保证是 samples*timestep 的维度\n",
      "x_train shape: (73383, 100)\n",
      "x_test shape: (24462, 100)\n",
      "构建模型...\n",
      "训练...\n",
      "Train on 73383 samples, validate on 24462 samples\n",
      "Epoch 1/8\n",
      "73344/73383 [============================>.] - ETA: 0s - loss: 0.5095 - accuracy: 0.7639\n",
      "Epoch 00001: saving model to ./cnn_model_g.h5\n",
      "73383/73383 [==============================] - 254s 3ms/sample - loss: 0.5095 - accuracy: 0.7639 - val_loss: 0.4941 - val_accuracy: 0.7763\n",
      "Epoch 2/8\n",
      "73344/73383 [============================>.] - ETA: 0s - loss: 0.3844 - accuracy: 0.8443\n",
      "Epoch 00002: saving model to ./cnn_model_g.h5\n",
      "73383/73383 [==============================] - 247s 3ms/sample - loss: 0.3844 - accuracy: 0.8444 - val_loss: 0.5127 - val_accuracy: 0.7778\n",
      "Epoch 3/8\n",
      "73344/73383 [============================>.] - ETA: 0s - loss: 0.2186 - accuracy: 0.9203\n",
      "Epoch 00003: saving model to ./cnn_model_g.h5\n",
      "73383/73383 [==============================] - 230s 3ms/sample - loss: 0.2186 - accuracy: 0.9203 - val_loss: 0.6174 - val_accuracy: 0.7594\n",
      "Epoch 4/8\n",
      "73344/73383 [============================>.] - ETA: 0s - loss: 0.0486 - accuracy: 0.9885\n",
      "Epoch 00004: saving model to ./cnn_model_g.h5\n",
      "73383/73383 [==============================] - 219s 3ms/sample - loss: 0.0486 - accuracy: 0.9885 - val_loss: 0.8708 - val_accuracy: 0.7499\n"
     ]
    }
   ],
   "source": [
    "# 切分训练集和测试集\n",
    "# 转化年龄数据\n",
    "categories, cat_to_id = read_category_g()\n",
    "train_set, test_set = train_test_split(train[train['Gender']>0],\\\n",
    "                                       stratify=train[train['Gender']>0].Gender,\\\n",
    "                                       random_state=42)\n",
    "# 对文本的词id和类别id进行编码\n",
    "x_train = encode_sentences(train_set['Query_List1'].values.tolist(), word_to_id)\n",
    "y_train = to_categorical(encode_cate(train_set['Gender'].values.tolist(), cat_to_id))\n",
    "x_test = encode_sentences(test_set['Query_List1'].values.tolist(), word_to_id)\n",
    "y_test = to_categorical(encode_cate(test_set['Gender'].values.tolist(), cat_to_id))\n",
    "\n",
    "print('对序列做padding，保证是 samples*timestep 的维度')\n",
    "x_train = sequence.pad_sequences(x_train, maxlen=maxlen)\n",
    "x_test = sequence.pad_sequences(x_test, maxlen=maxlen)\n",
    "print('x_train shape:', x_train.shape)\n",
    "print('x_test shape:', x_test.shape)\n",
    "# fit拟合数据\n",
    "# max_features = 40001\n",
    "print('构建模型...')\n",
    "model_g = TextCNN(maxlen, max_features, embedding_dims,class_num=2).get_model()\n",
    "model_g.compile('adam', 'categorical_crossentropy', metrics=['accuracy'])\n",
    "\n",
    "print('训练...')\n",
    "# 设定callbacks回调函数\n",
    "my_callbacks = [\n",
    "    ModelCheckpoint('./cnn_model_g.h5', verbose=1),\n",
    "    EarlyStopping(monitor='val_accuracy', patience=2, mode='max')\n",
    "]\n",
    "history = model_g.fit(x_train, y_train,\n",
    "          batch_size=batch_size,\n",
    "          epochs=epochs,\n",
    "          callbacks=my_callbacks,\n",
    "          validation_data=(x_test, y_test))"
   ]
  },
  {
   "cell_type": "markdown",
   "metadata": {},
   "source": [
    "### 训练中间信息输出"
   ]
  },
  {
   "cell_type": "code",
   "execution_count": 36,
   "metadata": {},
   "outputs": [
    {
     "data": {
      "image/png": "[encoded data removed]",
      "text/plain": [
       "<Figure size 432x288 with 1 Axes>"
      ]
     },
     "metadata": {},
     "output_type": "display_data"
    }
   ],
   "source": [
    "import matplotlib.pyplot as plt\n",
    "plt.switch_backend('agg')\n",
    "%matplotlib inline\n",
    "\n",
    "fig1 = plt.figure()\n",
    "plt.plot(history.history['loss'],'r',linewidth=3.0)\n",
    "plt.plot(history.history['val_loss'],'b',linewidth=3.0)\n",
    "plt.legend(['Training loss', 'Validation Loss'],fontsize=18)\n",
    "plt.xlabel('Epochs ',fontsize=16)\n",
    "plt.ylabel('Loss',fontsize=16)\n",
    "plt.title('Loss Curves :CNN',fontsize=16)\n",
    "fig1.savefig('loss_cnn.png')\n",
    "plt.show()"
   ]
  },
  {
   "cell_type": "code",
   "execution_count": 37,
   "metadata": {},
   "outputs": [
    {
     "data": {
      "image/png": "[encoded data removed]",
      "text/plain": [
       "<Figure size 432x288 with 1 Axes>"
      ]
     },
     "metadata": {},
     "output_type": "display_data"
    }
   ],
   "source": [
    "fig2=plt.figure()\n",
    "plt.plot(history.history['accuracy'],'r',linewidth=3.0)\n",
    "plt.plot(history.history['val_accuracy'],'b',linewidth=3.0)\n",
    "plt.legend(['Training Accuracy', 'Validation Accuracy'],fontsize=18)\n",
    "plt.xlabel('Epochs ',fontsize=16)\n",
    "plt.ylabel('Accuracy',fontsize=16)\n",
    "plt.title('Accuracy Curves : CNN',fontsize=16)\n",
    "fig2.savefig('accuracy_cnn.png')\n",
    "plt.show()"
   ]
  },
  {
   "cell_type": "markdown",
   "metadata": {},
   "source": [
    "### 学历"
   ]
  },
  {
   "cell_type": "code",
   "execution_count": 38,
   "metadata": {},
   "outputs": [
    {
     "name": "stdout",
     "output_type": "stream",
     "text": [
      "对序列做padding，保证是 samples*timestep 的维度\n",
      "x_train shape: (68040, 100)\n",
      "x_test shape: (22680, 100)\n",
      "构建模型...\n",
      "训练...\n",
      "Train on 68040 samples, validate on 22680 samples\n",
      "Epoch 1/8\n",
      "68032/68040 [============================>.] - ETA: 0s - loss: 1.1235 - accuracy: 0.5247\n",
      "Epoch 00001: saving model to ./cnn_model_e.h5\n",
      "68040/68040 [==============================] - 186s 3ms/sample - loss: 1.1236 - accuracy: 0.5247 - val_loss: 1.0518 - val_accuracy: 0.5646\n",
      "Epoch 2/8\n",
      "68032/68040 [============================>.] - ETA: 0s - loss: 0.9092 - accuracy: 0.6471\n",
      "Epoch 00002: saving model to ./cnn_model_e.h5\n",
      "68040/68040 [==============================] - 182s 3ms/sample - loss: 0.9092 - accuracy: 0.6471 - val_loss: 1.0864 - val_accuracy: 0.5552\n",
      "Epoch 3/8\n",
      "68032/68040 [============================>.] - ETA: 0s - loss: 0.6109 - accuracy: 0.7866\n",
      "Epoch 00003: saving model to ./cnn_model_e.h5\n",
      "68040/68040 [==============================] - 182s 3ms/sample - loss: 0.6109 - accuracy: 0.7866 - val_loss: 1.2574 - val_accuracy: 0.5323\n"
     ]
    }
   ],
   "source": [
    "# 切分训练集和测试集\n",
    "# 转化学历数据\n",
    "categories, cat_to_id = read_category_e()\n",
    "train_set, test_set = train_test_split(train[train['Education']>0],\\\n",
    "                                       stratify=train[train['Education']>0].Education,\\\n",
    "                                       random_state=42)\n",
    "# 对文本的词id和类别id进行编码\n",
    "x_train = encode_sentences(train_set['Query_List1'].values.tolist(), word_to_id)\n",
    "y_train = to_categorical(encode_cate(train_set['Education'].values.tolist(), cat_to_id))\n",
    "x_test = encode_sentences(test_set['Query_List1'].values.tolist(), word_to_id)\n",
    "y_test = to_categorical(encode_cate(test_set['Education'].values.tolist(), cat_to_id))\n",
    "\n",
    "print('对序列做padding，保证是 samples*timestep 的维度')\n",
    "x_train = sequence.pad_sequences(x_train, maxlen=maxlen)\n",
    "x_test = sequence.pad_sequences(x_test, maxlen=maxlen)\n",
    "print('x_train shape:', x_train.shape)\n",
    "print('x_test shape:', x_test.shape)\n",
    "# fit拟合数据\n",
    "# max_features = 40001\n",
    "print('构建模型...')\n",
    "model_e = TextCNN(maxlen, max_features, embedding_dims,class_num=6).get_model()\n",
    "model_e.compile('adam', 'categorical_crossentropy', metrics=['accuracy'])\n",
    "\n",
    "print('训练...')\n",
    "# 设定callbacks回调函数\n",
    "my_callbacks = [\n",
    "    ModelCheckpoint('./cnn_model_e.h5', verbose=1),\n",
    "    EarlyStopping(monitor='val_accuracy', patience=2, mode='max')\n",
    "]\n",
    "history = model_e.fit(x_train, y_train,\n",
    "          batch_size=batch_size,\n",
    "          epochs=epochs,\n",
    "          callbacks=my_callbacks,\n",
    "          validation_data=(x_test, y_test))"
   ]
  },
  {
   "cell_type": "markdown",
   "metadata": {},
   "source": [
    "### 训练中间信息输出"
   ]
  },
  {
   "cell_type": "code",
   "execution_count": 39,
   "metadata": {},
   "outputs": [
    {
     "data": {
      "image/png": "[encoded data removed]",
      "text/plain": [
       "<Figure size 432x288 with 1 Axes>"
      ]
     },
     "metadata": {},
     "output_type": "display_data"
    }
   ],
   "source": [
    "import matplotlib.pyplot as plt\n",
    "plt.switch_backend('agg')\n",
    "%matplotlib inline\n",
    "\n",
    "fig1 = plt.figure()\n",
    "plt.plot(history.history['loss'],'r',linewidth=3.0)\n",
    "plt.plot(history.history['val_loss'],'b',linewidth=3.0)\n",
    "plt.legend(['Training loss', 'Validation Loss'],fontsize=18)\n",
    "plt.xlabel('Epochs ',fontsize=16)\n",
    "plt.ylabel('Loss',fontsize=16)\n",
    "plt.title('Loss Curves :CNN',fontsize=16)\n",
    "fig1.savefig('loss_cnn.png')\n",
    "plt.show()"
   ]
  },
  {
   "cell_type": "code",
   "execution_count": 40,
   "metadata": {},
   "outputs": [
    {
     "data": {
      "image/png": "[encoded data removed]",
      "text/plain": [
       "<Figure size 432x288 with 1 Axes>"
      ]
     },
     "metadata": {},
     "output_type": "display_data"
    }
   ],
   "source": [
    "fig2=plt.figure()\n",
    "plt.plot(history.history['accuracy'],'r',linewidth=3.0)\n",
    "plt.plot(history.history['val_accuracy'],'b',linewidth=3.0)\n",
    "plt.legend(['Training Accuracy', 'Validation Accuracy'],fontsize=18)\n",
    "plt.xlabel('Epochs ',fontsize=16)\n",
    "plt.ylabel('Accuracy',fontsize=16)\n",
    "plt.title('Accuracy Curves : CNN',fontsize=16)\n",
    "fig2.savefig('accuracy_cnn.png')\n",
    "plt.show()"
   ]
  },
  {
   "cell_type": "code",
   "execution_count": 19,
   "metadata": {},
   "outputs": [
    {
     "name": "stdout",
     "output_type": "stream",
     "text": [
      "(73750, 100) (73750, 6)\n",
      "(24584, 100) (24584, 6)\n"
     ]
    }
   ],
   "source": [
    "print(x_train.shape,y_train.shape)\n",
    "print(x_test.shape,y_test.shape)"
   ]
  },
  {
   "cell_type": "markdown",
   "metadata": {},
   "source": [
    "### 保存模型"
   ]
  },
  {
   "cell_type": "code",
   "execution_count": 46,
   "metadata": {},
   "outputs": [
    {
     "name": "stdout",
     "output_type": "stream",
     "text": [
      "WARNING:tensorflow:From /home/myth/anaconda3/lib/python3.6/site-packages/tensorflow_core/python/ops/resource_variable_ops.py:1786: calling BaseResourceVariable.__init__ (from tensorflow.python.ops.resource_variable_ops) with constraint is deprecated and will be removed in a future version.\n",
      "Instructions for updating:\n",
      "If using Keras pass *_constraint arguments to layers.\n",
      "INFO:tensorflow:Assets written to: model/tCNN_a.model/assets\n",
      "INFO:tensorflow:Assets written to: model/tCNN_g.model/assets\n",
      "INFO:tensorflow:Assets written to: model/tCNN_e.model/assets\n"
     ]
    }
   ],
   "source": [
    "# from joblib import dump,load\n",
    "path = 'TextCNNModel.model'\n",
    "model.save('model/tCNN_a.model')\n",
    "model_g.save('model/tCNN_g.model')\n",
    "model_e.save('model/tCNN_e.model')"
   ]
  },
  {
   "cell_type": "code",
   "execution_count": null,
   "metadata": {},
   "outputs": [],
   "source": []
  }
 ],
 "metadata": {
  "kernelspec": {
   "display_name": "Python 3",
   "language": "python",
   "name": "python3"
  },
  "language_info": {
   "codemirror_mode": {
    "name": "ipython",
    "version": 3
   },
   "file_extension": ".py",
   "mimetype": "text/x-python",
   "name": "python",
   "nbconvert_exporter": "python",
   "pygments_lexer": "ipython3",
   "version": "3.6.5"
  }
 },
 "nbformat": 4,
 "nbformat_minor": 2
}
