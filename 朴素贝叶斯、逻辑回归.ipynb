{
 "cells": [
  {
   "cell_type": "code",
   "execution_count": 16,
   "metadata": {},
   "outputs": [],
   "source": [
    "import warnings\n",
    "warnings.filterwarnings(\"ignore\")\n",
    "import pandas as pd\n",
    "import numpy as np\n",
    "import jieba\n",
    "import re\n",
    "import psutil\n",
    "import os\n",
    "from joblib import dump,load\n",
    "from sklearn.model_selection import train_test_split\n"
   ]
  },
  {
   "cell_type": "markdown",
   "metadata": {},
   "source": [
    "### 加载数据"
   ]
  },
  {
   "cell_type": "code",
   "execution_count": 6,
   "metadata": {},
   "outputs": [],
   "source": [
    "# 加载分词模型\n",
    "vec = load('vectorizer.model')\n",
    "# 加载训练数据\n",
    "train = pd.read_csv('train1.csv')"
   ]
  },
  {
   "cell_type": "code",
   "execution_count": 12,
   "metadata": {},
   "outputs": [
    {
     "data": {
      "text/html": [
       "<div>\n",
       "<style scoped>\n",
       "    .dataframe tbody tr th:only-of-type {\n",
       "        vertical-align: middle;\n",
       "    }\n",
       "\n",
       "    .dataframe tbody tr th {\n",
       "        vertical-align: top;\n",
       "    }\n",
       "\n",
       "    .dataframe thead th {\n",
       "        text-align: right;\n",
       "    }\n",
       "</style>\n",
       "<table border=\"1\" class=\"dataframe\">\n",
       "  <thead>\n",
       "    <tr style=\"text-align: right;\">\n",
       "      <th></th>\n",
       "      <th>ID</th>\n",
       "      <th>Age</th>\n",
       "      <th>Gender</th>\n",
       "      <th>Education</th>\n",
       "      <th>Query_List</th>\n",
       "    </tr>\n",
       "  </thead>\n",
       "  <tbody>\n",
       "    <tr>\n",
       "      <th>0</th>\n",
       "      <td>22DD920316420BE2DF8D6EE651BA174B</td>\n",
       "      <td>1</td>\n",
       "      <td>1</td>\n",
       "      <td>4</td>\n",
       "      <td>柔和 双沟 女生 中财网 首页   财经 pan 周公 解梦 大全 查询 2345 曹云金 ...</td>\n",
       "    </tr>\n",
       "    <tr>\n",
       "      <th>1</th>\n",
       "      <td>43CC3AF5A8D6430A3B572337A889AFE4</td>\n",
       "      <td>2</td>\n",
       "      <td>1</td>\n",
       "      <td>3</td>\n",
       "      <td>广州 厨宝 烤箱 世情 薄 人情 恶 雨送 黄昏 花易落 晓 风干 泪痕 厦门 酒店用品 批...</td>\n",
       "    </tr>\n",
       "    <tr>\n",
       "      <th>2</th>\n",
       "      <td>E97654BFF5570E2CCD433EA6128EAC19</td>\n",
       "      <td>4</td>\n",
       "      <td>1</td>\n",
       "      <td>0</td>\n",
       "      <td>钻石 之泪 耳机 盘锦 沈阳 旅顺 公交 辽宁 阜新 车牌 baidu k715 k716 ...</td>\n",
       "    </tr>\n",
       "  </tbody>\n",
       "</table>\n",
       "</div>"
      ],
      "text/plain": [
       "                                 ID  Age  Gender  Education  \\\n",
       "0  22DD920316420BE2DF8D6EE651BA174B    1       1          4   \n",
       "1  43CC3AF5A8D6430A3B572337A889AFE4    2       1          3   \n",
       "2  E97654BFF5570E2CCD433EA6128EAC19    4       1          0   \n",
       "\n",
       "                                          Query_List  \n",
       "0  柔和 双沟 女生 中财网 首页   财经 pan 周公 解梦 大全 查询 2345 曹云金 ...  \n",
       "1  广州 厨宝 烤箱 世情 薄 人情 恶 雨送 黄昏 花易落 晓 风干 泪痕 厦门 酒店用品 批...  \n",
       "2  钻石 之泪 耳机 盘锦 沈阳 旅顺 公交 辽宁 阜新 车牌 baidu k715 k716 ...  "
      ]
     },
     "execution_count": 12,
     "metadata": {},
     "output_type": "execute_result"
    }
   ],
   "source": [
    "train.head(3)"
   ]
  },
  {
   "cell_type": "markdown",
   "metadata": {},
   "source": [
    "### 查看内存情况"
   ]
  },
  {
   "cell_type": "code",
   "execution_count": 40,
   "metadata": {},
   "outputs": [
    {
     "name": "stdout",
     "output_type": "stream",
     "text": [
      "内存使用： 1504088064\n",
      "剩余内存： 6763470848\n"
     ]
    }
   ],
   "source": [
    "info = psutil.virtual_memory()\n",
    "print (u'内存使用：',psutil.Process(os.getpid()).memory_info().rss)\n",
    "print (u'剩余内存：',info.total-psutil.Process(os.getpid()).memory_info().rss)"
   ]
  },
  {
   "cell_type": "markdown",
   "metadata": {},
   "source": [
    "### 构建贝叶斯模型"
   ]
  },
  {
   "cell_type": "code",
   "execution_count": 14,
   "metadata": {},
   "outputs": [],
   "source": [
    "from sklearn.naive_bayes import MultinomialNB\n",
    "age_classifier = MultinomialNB()\n",
    "gender_classifier = MultinomialNB()\n",
    "education_classifier = MultinomialNB()\n"
   ]
  },
  {
   "cell_type": "markdown",
   "metadata": {},
   "source": [
    "#### 性别"
   ]
  },
  {
   "cell_type": "code",
   "execution_count": 21,
   "metadata": {},
   "outputs": [
    {
     "data": {
      "text/plain": [
       "0.7906548933038999"
      ]
     },
     "execution_count": 21,
     "metadata": {},
     "output_type": "execute_result"
    }
   ],
   "source": [
    "# 切分数据\n",
    "X_train,X_test,y_train,y_test = train_test_split(train[train['Gender']>0].Query_List.tolist(),\\\n",
    "                                                 train[train['Gender']>0].Gender.tolist())\n",
    "# 训练\n",
    "gender_classifier.fit(vec.transform(X_train), y_train)\n",
    "# 检测效果\n",
    "s_g = gender_classifier.score(vec.transform(X_test), y_test)\n",
    "s_g"
   ]
  },
  {
   "cell_type": "markdown",
   "metadata": {},
   "source": [
    "####  年龄"
   ]
  },
  {
   "cell_type": "code",
   "execution_count": 23,
   "metadata": {},
   "outputs": [
    {
     "data": {
      "text/plain": [
       "0.5043524243410348"
      ]
     },
     "execution_count": 23,
     "metadata": {},
     "output_type": "execute_result"
    }
   ],
   "source": [
    "# 切分数据\n",
    "X_train,X_test,y_train,y_test = train_test_split(train[train['Age']>0].Query_List.tolist(),\\\n",
    "                                                 train[train['Age']>0].Age.tolist())\n",
    "# 训练\n",
    "age_classifier.fit(vec.transform(X_train), y_train)\n",
    "# 检测效果\n",
    "s_a = age_classifier.score(vec.transform(X_test), y_test)\n",
    "s_a"
   ]
  },
  {
   "cell_type": "markdown",
   "metadata": {},
   "source": [
    "#### 学历"
   ]
  },
  {
   "cell_type": "code",
   "execution_count": 24,
   "metadata": {},
   "outputs": [
    {
     "data": {
      "text/plain": [
       "0.4829805996472663"
      ]
     },
     "execution_count": 24,
     "metadata": {},
     "output_type": "execute_result"
    }
   ],
   "source": [
    "# 切分数据\n",
    "X_train,X_test,y_train,y_test = train_test_split(train[train['Education']>0].Query_List.tolist(),\\\n",
    "                                                 train[train['Education']>0].Education.tolist())\n",
    "# 训练\n",
    "education_classifier.fit(vec.transform(X_train), y_train)\n",
    "# 检测效果\n",
    "s_e = education_classifier.score(vec.transform(X_test), y_test)\n",
    "s_e"
   ]
  },
  {
   "cell_type": "code",
   "execution_count": 27,
   "metadata": {},
   "outputs": [
    {
     "data": {
      "text/plain": [
       "0.5926626390974004"
      ]
     },
     "execution_count": 27,
     "metadata": {},
     "output_type": "execute_result"
    }
   ],
   "source": [
    "np.mean([s_g,s_a,s_e])"
   ]
  },
  {
   "cell_type": "code",
   "execution_count": 38,
   "metadata": {},
   "outputs": [
    {
     "data": {
      "text/plain": [
       "['NB.model']"
      ]
     },
     "execution_count": 38,
     "metadata": {},
     "output_type": "execute_result"
    }
   ],
   "source": [
    "### 保存模型\n",
    "path = 'NB.model'\n",
    "dump((gender_classifier,age_classifier,education_classifier), path)"
   ]
  },
  {
   "cell_type": "markdown",
   "metadata": {},
   "source": [
    "## 逻辑回归"
   ]
  },
  {
   "cell_type": "code",
   "execution_count": 31,
   "metadata": {},
   "outputs": [],
   "source": [
    "from sklearn.linear_model import LogisticRegression\n",
    "age_classifier = LogisticRegression(C=1000.0, random_state=0)\n",
    "gender_classifier = LogisticRegression(C=1000.0, random_state=0)\n",
    "education_classifier = LogisticRegression(C=1000.0, random_state=0)"
   ]
  },
  {
   "cell_type": "markdown",
   "metadata": {},
   "source": [
    "#### 性别"
   ]
  },
  {
   "cell_type": "code",
   "execution_count": 32,
   "metadata": {},
   "outputs": [
    {
     "data": {
      "text/plain": [
       "0.7922083231134004"
      ]
     },
     "execution_count": 32,
     "metadata": {},
     "output_type": "execute_result"
    }
   ],
   "source": [
    "# 切分数据\n",
    "X_train,X_test,y_train,y_test = train_test_split(train[train['Gender']>0].Query_List.tolist(),\\\n",
    "                                                 train[train['Gender']>0].Gender.tolist())\n",
    "# 训练\n",
    "gender_classifier.fit(vec.transform(X_train), y_train)\n",
    "# 检测效果\n",
    "s_g = gender_classifier.score(vec.transform(X_test), y_test)\n",
    "s_g"
   ]
  },
  {
   "cell_type": "markdown",
   "metadata": {},
   "source": [
    "####  年龄"
   ]
  },
  {
   "cell_type": "code",
   "execution_count": 33,
   "metadata": {},
   "outputs": [
    {
     "data": {
      "text/plain": [
       "0.5335584119752684"
      ]
     },
     "execution_count": 33,
     "metadata": {},
     "output_type": "execute_result"
    }
   ],
   "source": [
    "# 切分数据\n",
    "X_train,X_test,y_train,y_test = train_test_split(train[train['Age']>0].Query_List.tolist(),\\\n",
    "                                                 train[train['Age']>0].Age.tolist())\n",
    "# 训练\n",
    "age_classifier.fit(vec.transform(X_train), y_train)\n",
    "# 检测效果\n",
    "s_a = age_classifier.score(vec.transform(X_test), y_test)\n",
    "s_a"
   ]
  },
  {
   "cell_type": "markdown",
   "metadata": {},
   "source": [
    "#### 学历"
   ]
  },
  {
   "cell_type": "code",
   "execution_count": 34,
   "metadata": {},
   "outputs": [
    {
     "data": {
      "text/plain": [
       "0.5675925925925925"
      ]
     },
     "execution_count": 34,
     "metadata": {},
     "output_type": "execute_result"
    }
   ],
   "source": [
    "# 切分数据\n",
    "X_train,X_test,y_train,y_test = train_test_split(train[train['Education']>0].Query_List.tolist(),\\\n",
    "                                                 train[train['Education']>0].Education.tolist())\n",
    "# 训练\n",
    "education_classifier.fit(vec.transform(X_train), y_train)\n",
    "# 检测效果\n",
    "s_e = education_classifier.score(vec.transform(X_test), y_test)\n",
    "s_e"
   ]
  },
  {
   "cell_type": "code",
   "execution_count": null,
   "metadata": {},
   "outputs": [],
   "source": []
  },
  {
   "cell_type": "code",
   "execution_count": 35,
   "metadata": {},
   "outputs": [
    {
     "data": {
      "text/plain": [
       "0.6311197758937538"
      ]
     },
     "execution_count": 35,
     "metadata": {},
     "output_type": "execute_result"
    }
   ],
   "source": [
    "np.mean([s_g,s_a,s_e])"
   ]
  },
  {
   "cell_type": "code",
   "execution_count": 37,
   "metadata": {},
   "outputs": [
    {
     "data": {
      "text/plain": [
       "['LC.model']"
      ]
     },
     "execution_count": 37,
     "metadata": {},
     "output_type": "execute_result"
    }
   ],
   "source": [
    "### 保存模型\n",
    "path = 'LC.model'\n",
    "dump((gender_classifier,age_classifier,education_classifier), path)"
   ]
  },
  {
   "cell_type": "markdown",
   "metadata": {},
   "source": [
    "## 支持向量机"
   ]
  },
  {
   "cell_type": "code",
   "execution_count": 42,
   "metadata": {},
   "outputs": [],
   "source": [
    "from sklearn.svm import SVC\n",
    "age_classifier = SVC(kernel='linear', C=1.0, random_state=0)\n",
    "gender_classifier = SVC(kernel='linear', C=1.0, random_state=0)\n",
    "education_classifier = SVC(kernel='linear', C=1.0, random_state=0)"
   ]
  },
  {
   "cell_type": "markdown",
   "metadata": {},
   "source": [
    "#### 性别"
   ]
  },
  {
   "cell_type": "code",
   "execution_count": null,
   "metadata": {},
   "outputs": [],
   "source": [
    "# 切分数据\n",
    "X_train,X_test,y_train,y_test = train_test_split(train[train['Gender']>0].Query_List.tolist(),\\\n",
    "                                                 train[train['Gender']>0].Gender.tolist())\n",
    "# 训练\n",
    "gender_classifier.fit(vec.transform(X_train), y_train)\n",
    "# 检测效果\n",
    "s_g = gender_classifier.score(vec.transform(X_test), y_test)\n",
    "s_g"
   ]
  },
  {
   "cell_type": "markdown",
   "metadata": {},
   "source": [
    "####  年龄"
   ]
  },
  {
   "cell_type": "code",
   "execution_count": 33,
   "metadata": {},
   "outputs": [
    {
     "data": {
      "text/plain": [
       "0.5335584119752684"
      ]
     },
     "execution_count": 33,
     "metadata": {},
     "output_type": "execute_result"
    }
   ],
   "source": [
    "# 切分数据\n",
    "X_train,X_test,y_train,y_test = train_test_split(train[train['Age']>0].Query_List.tolist(),\\\n",
    "                                                 train[train['Age']>0].Age.tolist())\n",
    "# 训练\n",
    "age_classifier.fit(vec.transform(X_train), y_train)\n",
    "# 检测效果\n",
    "s_a = age_classifier.score(vec.transform(X_test), y_test)\n",
    "s_a"
   ]
  },
  {
   "cell_type": "markdown",
   "metadata": {},
   "source": [
    "#### 学历"
   ]
  },
  {
   "cell_type": "code",
   "execution_count": 34,
   "metadata": {},
   "outputs": [
    {
     "data": {
      "text/plain": [
       "0.5675925925925925"
      ]
     },
     "execution_count": 34,
     "metadata": {},
     "output_type": "execute_result"
    }
   ],
   "source": [
    "# 切分数据\n",
    "X_train,X_test,y_train,y_test = train_test_split(train[train['Education']>0].Query_List.tolist(),\\\n",
    "                                                 train[train['Education']>0].Education.tolist())\n",
    "# 训练\n",
    "education_classifier.fit(vec.transform(X_train), y_train)\n",
    "# 检测效果\n",
    "s_e = education_classifier.score(vec.transform(X_test), y_test)\n",
    "s_e"
   ]
  }
 ],
 "metadata": {
  "kernelspec": {
   "display_name": "Python 3",
   "language": "python",
   "name": "python3"
  },
  "language_info": {
   "codemirror_mode": {
    "name": "ipython",
    "version": 3
   },
   "file_extension": ".py",
   "mimetype": "text/x-python",
   "name": "python",
   "nbconvert_exporter": "python",
   "pygments_lexer": "ipython3",
   "version": "3.6.5"
  }
 },
 "nbformat": 4,
 "nbformat_minor": 2
}
